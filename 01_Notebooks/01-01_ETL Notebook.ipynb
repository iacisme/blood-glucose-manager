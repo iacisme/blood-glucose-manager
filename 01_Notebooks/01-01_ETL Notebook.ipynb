{
 "cells": [
  {
   "cell_type": "markdown",
   "id": "50e5a6ed-dbd1-437d-b122-0bbdc29bee9a",
   "metadata": {},
   "source": [
    "<h1 style='color:rgb(144, 12, 63)'; align=center><font size = 8> BLOOD GLUCOSE MANAGEMENT </font></h1>\n",
    "\n",
    "<h2 style='color:rgb(144, 12, 63)'; align=left><font size = 6> NOTEBOOK 01-01: ETL - BLOOD GLUCOSE TRACKER</font></h2>"
   ]
  },
  {
   "cell_type": "markdown",
   "id": "97947d07-1108-45f1-b84c-82c8c49f7767",
   "metadata": {},
   "source": [
    "# REVISION HISTORY"
   ]
  },
  {
   "cell_type": "markdown",
   "id": "798e11c5-f93c-406e-ac8a-2e841453eb9c",
   "metadata": {},
   "source": [
    "| REV | DESCRIPTION               | DATE         |  BY   | CHECK | APPROVE  |\n",
    "|:---:|:-------------------------:|:------------:|:-----:|:-----:|:--------:|\n",
    "| 0   | ISSUED FOR IMPLEMENTATION | 2024-SEP-02  |  IAC  |       |          |\n",
    "|     |                           |              |       |       |          |"
   ]
  },
  {
   "cell_type": "markdown",
   "id": "41939316-c6da-4ed3-8948-a49c898d12d7",
   "metadata": {},
   "source": [
    "## REVISION DESCRIPTION"
   ]
  },
  {
   "cell_type": "markdown",
   "id": "d86a8b98-d0e6-44d8-9dda-c80127fea930",
   "metadata": {},
   "source": [
    "* **REV 0**: ETL Scripts to create the dataset to analyze blood glucose levels."
   ]
  },
  {
   "cell_type": "markdown",
   "id": "220e379b-e0d2-4957-8c97-2e03162f8d1d",
   "metadata": {},
   "source": [
    "# OVERVIEW"
   ]
  },
  {
   "cell_type": "markdown",
   "id": "6f5bac2b-ed1b-4d5c-96ce-96cc3431a259",
   "metadata": {},
   "source": [
    "The **E**xtract, **T**ransform, **L**oad (ETL) process is a 3-phase process that combines, cleans and organizes raw data from a data source (or multiple data sources) into a single and consistent tabular dataset. A tabular dataset is required to perform data analytics and machine learning.\n",
    "\n",
    "The raw data sources that can be used to create a dataset include:\n",
    "\n",
    "*  Files (music, images, spreadsheets, or other digital files)\n",
    "*  Databases\n",
    "*  APIs\n",
    "*  Sensors\n",
    "*  Web services\n",
    "*  Web scraping\n",
    "*  Streaming data sources\n",
    "\n",
    "<div class=\"alert alert-warning\" role=\"alert\">\n",
    "  <h3 class=\"alert-heading\">NOTE:</h3>\n",
    "  <p>It is best practice that every data source have it's own notebook to describe the ETL process of creating the dataset.</p>\n",
    "</div>"
   ]
  },
  {
   "cell_type": "markdown",
   "id": "1e1582d5-f28a-42a7-b725-828d45711cc4",
   "metadata": {},
   "source": [
    "# OBJECTIVE"
   ]
  },
  {
   "cell_type": "markdown",
   "id": "1948854b-aa2e-4d05-803d-199fc0efdd93",
   "metadata": {},
   "source": [
    "This notebook describes the ETL process to create a dataset to accomplish the following:\n",
    "\n",
    "> Create graphs and charts to analyze blood glucose levels, including additional inputs like meal descriptions that can be correlated to appropriate meal markers."
   ]
  },
  {
   "cell_type": "markdown",
   "id": "8491e097-48da-4373-b23b-610eded8e7e7",
   "metadata": {},
   "source": [
    "# DATA SOURCE"
   ]
  },
  {
   "cell_type": "markdown",
   "id": "6656b1a5-6519-4abe-8ee0-2e66fd054838",
   "metadata": {},
   "source": [
    "The following spreadsheet is the data source used to complete the objective:\n",
    "\n",
    "> Blood Glucose Tracker.xlsx\n",
    "\n",
    "This spreadsheet has multiple tabs. The tabs that will be used are:\n",
    "1. Blood Glucose Tracker\n",
    "2. Meal Tracker"
   ]
  },
  {
   "cell_type": "markdown",
   "id": "fa9cd8e2-27e5-4000-8c86-25742346d0d1",
   "metadata": {},
   "source": [
    "## DATA SOURCE LOCATION"
   ]
  },
  {
   "cell_type": "markdown",
   "id": "3fd31730-983d-44f8-9e5e-49917a01d359",
   "metadata": {},
   "source": [
    "A copy of this spreadsheet can be found in the following path:\n",
    "\n",
    "`00_Data/00_Datasets/Blood Glucose Tracker.xlsx`"
   ]
  },
  {
   "cell_type": "markdown",
   "id": "3c891482-abfa-41b2-a537-6983f3ac84d8",
   "metadata": {},
   "source": [
    "# REQUIRED LIBRARIES"
   ]
  },
  {
   "cell_type": "markdown",
   "id": "24a2600f-53e5-48f0-ac28-b7250eb9279a",
   "metadata": {},
   "source": [
    "The following Python libraries are required to perform these ETL activities:"
   ]
  },
  {
   "cell_type": "code",
   "execution_count": null,
   "id": "98d00053-26a0-40ad-b521-a14ac37cf470",
   "metadata": {},
   "outputs": [],
   "source": [
    "# Library to create and handle a tabular dataset\n",
    "import pandas as pd"
   ]
  },
  {
   "cell_type": "markdown",
   "id": "657be315-c98a-4174-bdb1-35e59d27517d",
   "metadata": {},
   "source": [
    "# EXTRACT"
   ]
  },
  {
   "cell_type": "markdown",
   "id": "866b6dc6-1931-41e9-9a5f-8a27fd57afd8",
   "metadata": {},
   "source": [
    "The following path and filename will be used in the scripts to extract the required data."
   ]
  },
  {
   "cell_type": "code",
   "execution_count": null,
   "id": "6cd6bd76-3b41-4f45-bf8d-f1085b2c71b9",
   "metadata": {},
   "outputs": [],
   "source": [
    "# Path to the spreadsheet\n",
    "dataPath = \".././00_Data/00_Datasets/\""
   ]
  },
  {
   "cell_type": "code",
   "execution_count": null,
   "id": "2004fda6-05ce-425c-9953-43db8403bab2",
   "metadata": {},
   "outputs": [],
   "source": [
    "# Spreadsheet file name\n",
    "fileName = \"Blood Glucose Tracker.xlsx\""
   ]
  },
  {
   "cell_type": "markdown",
   "id": "f84995cc-f931-4f5c-bf99-eadbe17f5dfc",
   "metadata": {},
   "source": [
    "## BLOOD GLUCOSE TRACKER"
   ]
  },
  {
   "cell_type": "markdown",
   "id": "2109a9b5-e2eb-4f32-9917-6845fcda1bac",
   "metadata": {},
   "source": [
    "The following scripts will extract data from the `Blood Glucose Tracker` tab of this spreadsheet."
   ]
  },
  {
   "cell_type": "code",
   "execution_count": null,
   "id": "d89edf98-bc7c-443e-9543-2cef0555c00e",
   "metadata": {},
   "outputs": [],
   "source": [
    "# The Blood Glucose Tracker tab to extract\n",
    "bloodGlucoseTab = \"Blood Glucose Tracker\""
   ]
  },
  {
   "cell_type": "code",
   "execution_count": null,
   "id": "f0dc0661-85ff-4238-bdd1-873ad36ff23e",
   "metadata": {},
   "outputs": [],
   "source": [
    "# Extract the blood glucose data from the spreadsheet\n",
    "bloodGlucose_df = pd.read_excel(\n",
    "    dataPath + fileName,\n",
    "    sheet_name = bloodGlucoseTab,\n",
    "    dtype = {\n",
    "        \"Date\" : str,\n",
    "        \"Time\" : str,\n",
    "        \"Marker\" : str,\n",
    "        \"Glucose (mmol/L)\" : float\n",
    "    }\n",
    ")\n",
    "\n",
    "# Verify that the correct data has been extracted\n",
    "bloodGlucose_df"
   ]
  },
  {
   "cell_type": "markdown",
   "id": "bbdc671e-27a3-43cc-8356-123a9a8d0901",
   "metadata": {},
   "source": [
    "## MEAL TRACKER"
   ]
  },
  {
   "cell_type": "markdown",
   "id": "a1ac75b1-fb43-45a8-aeba-5fee35dd475f",
   "metadata": {},
   "source": [
    "The following scripts will extract data from the `Meal Tracker` tab of this spreadsheet."
   ]
  },
  {
   "cell_type": "code",
   "execution_count": null,
   "id": "82a28a95-37e7-40d3-a37f-c96c8ef38e66",
   "metadata": {},
   "outputs": [],
   "source": [
    "# The Blood Glucose Tracker tab to extract\n",
    "mealTab = \"Meal Tracker\""
   ]
  },
  {
   "cell_type": "code",
   "execution_count": null,
   "id": "ce8f55b5-f3b9-4ddb-bff9-354b23c83f6e",
   "metadata": {},
   "outputs": [],
   "source": [
    "# Extract the meal data from the spreadsheet\n",
    "meal_df = pd.read_excel(\n",
    "    dataPath + fileName,\n",
    "    sheet_name = mealTab,\n",
    "    dtype = {\n",
    "        \"Date\" : str,\n",
    "        \"Time\" : str,\n",
    "        \"Meal Type\" : str,\n",
    "        \"Description\" : str\n",
    "    }\n",
    ")\n",
    "\n",
    "# Verify that the correct data has been extracted\n",
    "meal_df"
   ]
  },
  {
   "cell_type": "markdown",
   "id": "15aa957d-a76d-4c3e-b3e1-a242865e19f6",
   "metadata": {},
   "source": [
    "# TRANSFORM"
   ]
  },
  {
   "cell_type": "markdown",
   "id": "562122ed-af44-48af-805f-93b693557e19",
   "metadata": {},
   "source": [
    "This step involves cleaning, structuring, and converting the data into a format suitable for analysis and storage in the target system. "
   ]
  },
  {
   "cell_type": "markdown",
   "id": "7c97477d-e556-4eb5-ac31-e1bb2278b787",
   "metadata": {},
   "source": [
    "## TRANSFORMATION TASKS"
   ]
  },
  {
   "cell_type": "markdown",
   "id": "39398cc3-6407-4953-86a8-68b53d0c1c06",
   "metadata": {},
   "source": [
    "Some common transformation tasks include:\n",
    "\n",
    "* [X] [~~Filtering out unnecessary data~~](#FILTERING-OUT-UNNECESSARY-DATA)\n",
    "* [X] [Standardizing formats (e.g., date formats, units of measurement)](#STANDARDIZING-FORMATS)\n",
    "* [X] [~~Data type conversions: Changing data types to ensure consistency~~](#DATA-TYPE-CONVERSIONS)\n",
    "* [X] [Joining or merging data from different sources](#JOINING-OR-MERGING-DATA-FROM-DIFFERENT-SOURCES)\n",
    "* [X] [~~Aggregations: Summarizing data or performing calculations~~](#AGGREGATIONS)\n",
    "* [X] [Data cleaning: Handling missing values, correcting errors, and removing duplicates](#DATA-CLEANING)"
   ]
  },
  {
   "cell_type": "markdown",
   "id": "18a3d8ca-9c2c-438f-9705-309d863c2fb2",
   "metadata": {},
   "source": [
    "## FILTERING OUT UNNECESSARY DATA"
   ]
  },
  {
   "cell_type": "markdown",
   "id": "81870051-937b-40a2-b63b-c63ecb0debea",
   "metadata": {},
   "source": [
    "This step is not applicable. The extracted data does not require any filtering."
   ]
  },
  {
   "cell_type": "markdown",
   "id": "fb8cdf70-9bbc-4ae1-a636-78be0a07032c",
   "metadata": {},
   "source": [
    "## STANDARDIZING FORMATS"
   ]
  },
  {
   "cell_type": "markdown",
   "id": "e89ae99a-4b31-4b02-9430-7d832e1657ac",
   "metadata": {},
   "source": [
    "### CLEANING THE DATE COLUMN"
   ]
  },
  {
   "cell_type": "markdown",
   "id": "1f229cd7-d665-48c5-b7b9-fbdaf35d4691",
   "metadata": {},
   "source": [
    "The first step in standardizing the formats is to clean up the `Date` column in both data frames by removing the `00:00:00` part of the date. This will help in any future merging of the Date and Time values."
   ]
  },
  {
   "cell_type": "code",
   "execution_count": null,
   "id": "76437545-2a3a-4db9-bf47-af250bc9e71c",
   "metadata": {},
   "outputs": [],
   "source": [
    "# Remove the ' 00:00:00' from the 'Date' column\n",
    "bloodGlucose_df['Date'] = bloodGlucose_df['Date'].str.replace(' 00:00:00', '')\n",
    "\n",
    "# Verify the operation\n",
    "bloodGlucose_df"
   ]
  },
  {
   "cell_type": "code",
   "execution_count": null,
   "id": "2b2a94e9-b21c-41d5-b49d-961b4c353463",
   "metadata": {},
   "outputs": [],
   "source": [
    "# Remove the ' 00:00:00' from the 'Date' column\n",
    "meal_df['Date'] = meal_df['Date'].str.replace(' 00:00:00', '')\n",
    "\n",
    "# Verify the operation\n",
    "meal_df"
   ]
  },
  {
   "cell_type": "markdown",
   "id": "e10df9c5-bf69-4955-971d-a1201bc4e6f7",
   "metadata": {},
   "source": [
    "### MERGING DATE AND TIME COLUMNS"
   ]
  },
  {
   "cell_type": "markdown",
   "id": "745f933e-c493-4c04-a25e-09e399368dbc",
   "metadata": {},
   "source": [
    "To help in graphing and the visualization of blood glucose data, a `DateTime` field will be added to **bloodGlucose_df**. Adding this field will create standardized date and time format. No other standardization is required. "
   ]
  },
  {
   "cell_type": "code",
   "execution_count": null,
   "id": "a9b169b7-6077-487c-9575-5b40d2d95df3",
   "metadata": {},
   "outputs": [],
   "source": [
    "# Combine the Date and Time columns into a DateTime column that will be used in graphing\n",
    "bloodGlucose_df['DateTime'] = pd.to_datetime(bloodGlucose_df['Date'] + ' ' + bloodGlucose_df['Time'])\n",
    "\n",
    "# Drop and re-order columns\n",
    "bloodGlucose_df = bloodGlucose_df[\n",
    "    [\n",
    "        'DateTime', \n",
    "        'Date', \n",
    "        'Time', \n",
    "        'Glucose (mmol/L)', \n",
    "        'Marker'\n",
    "    ]\n",
    "]\n",
    "\n",
    "# Verify results\n",
    "bloodGlucose_df"
   ]
  },
  {
   "cell_type": "markdown",
   "id": "c3bf3d27-ee46-4c53-88dd-0761357873d0",
   "metadata": {},
   "source": [
    "## DATA TYPE CONVERSIONS"
   ]
  },
  {
   "cell_type": "markdown",
   "id": "f9de11b4-55ed-4254-87f7-0a5de5923e93",
   "metadata": {},
   "source": [
    "This step is not applicable. There is no need for data type conversions in these datasets."
   ]
  },
  {
   "cell_type": "markdown",
   "id": "e1d10775-4999-49da-9ebf-30b6a56898a8",
   "metadata": {},
   "source": [
    "## JOINING OR MERGING DATA FROM DIFFERENT SOURCES"
   ]
  },
  {
   "cell_type": "markdown",
   "id": "00d7175e-7892-4705-9f92-ce66fd4d1493",
   "metadata": {},
   "source": [
    "In order to create a combined dataset based on information found in both data frames, there must be some common fields. To help in this merge, a new column will be added to the `meal_df` data frame. This new column will be called `Marker`."
   ]
  },
  {
   "cell_type": "code",
   "execution_count": null,
   "id": "4bed8827-ad4f-4216-b6a6-c3268d41685f",
   "metadata": {},
   "outputs": [],
   "source": [
    "# Values that will be added to the Marker column in the meal_df\n",
    "mealMarkerValues = {\n",
    "    'Breakfast' : 'After Breakfast',\n",
    "    'Lunch' : 'After Lunch',\n",
    "    'Snack' : 'After Snack',\n",
    "    'Supper' : 'After Supper'\n",
    "}"
   ]
  },
  {
   "cell_type": "code",
   "execution_count": null,
   "id": "4d0f6e4c-3fee-4c99-8bfd-a96855569022",
   "metadata": {},
   "outputs": [],
   "source": [
    "# Create a new column of values\n",
    "meal_df['Marker'] = meal_df['Meal Type'].map(mealMarkerValues)\n",
    "\n",
    "# Re-order columns\n",
    "meal_df = meal_df[\n",
    "    [\n",
    "        'Date', \n",
    "        'Time', \n",
    "        'Meal Type', \n",
    "        'Marker', \n",
    "        'Description'\n",
    "    ]\n",
    "]\n",
    "\n",
    "# Verify operation\n",
    "meal_df"
   ]
  },
  {
   "cell_type": "markdown",
   "id": "fd2538d2-29bf-412f-aa5d-a0a951f86aca",
   "metadata": {},
   "source": [
    "The two data frames can now be merged by `Date` and `Marker`. The following script will create a new data frame by merging `bloodGlucose_df` and `meal_df`."
   ]
  },
  {
   "cell_type": "code",
   "execution_count": null,
   "id": "cec75c5a-e194-4ae5-8873-4f3a6a08e037",
   "metadata": {},
   "outputs": [],
   "source": [
    "# Create a new data frame by merging the extracted data\n",
    "bloodGlucoseManager_df = pd.merge(\n",
    "    bloodGlucose_df,\n",
    "    meal_df,\n",
    "    how = 'left',\n",
    "    on = ['Date', 'Marker'],\n",
    "    suffixes = ('Test', 'Meal'), # Help determine if the time stamp is from the blood test time, or the time when the meal was eaten\n",
    ")\n",
    "    \n",
    "# Re-order columns\n",
    "bloodGlucoseManager_df = bloodGlucoseManager_df[\n",
    "    [\n",
    "        'DateTime', \n",
    "        'Date', \n",
    "        'TimeTest', \n",
    "        'TimeMeal', \n",
    "        'Glucose (mmol/L)',\n",
    "        'Marker', \n",
    "        'Meal Type',\n",
    "        'Description'\n",
    "    ]\n",
    "]\n",
    "\n",
    "# Verify results\n",
    "bloodGlucoseManager_df"
   ]
  },
  {
   "cell_type": "markdown",
   "id": "0cae2868-2fc4-4ff7-99e9-2b09436aae53",
   "metadata": {},
   "source": [
    "##  AGGREGATIONS"
   ]
  },
  {
   "cell_type": "markdown",
   "id": "f5847c9f-d16a-4208-a94f-a8cbe9f0b61c",
   "metadata": {},
   "source": [
    "This step is not applicable. There is no need for data type conversions in these datasets."
   ]
  },
  {
   "cell_type": "markdown",
   "id": "da56dbaf-96c5-4ee4-b0e8-8f70d7a5ecb6",
   "metadata": {},
   "source": [
    "## DATA CLEANING"
   ]
  },
  {
   "cell_type": "markdown",
   "id": "aaa410f0-294e-4100-8d31-6bf488184186",
   "metadata": {},
   "source": [
    "Although there are missing values in some fields, these missing values are acceptable. These missing values will not impact the analysis. The dataset does not have an errors or duplicates."
   ]
  },
  {
   "cell_type": "markdown",
   "id": "61fd117d-54d2-4ea7-9135-1572662871a2",
   "metadata": {},
   "source": [
    "# LOAD"
   ]
  },
  {
   "cell_type": "markdown",
   "id": "3024c43b-beeb-4c1e-ab87-a4029cb8512d",
   "metadata": {},
   "source": [
    "This step loads the newly created dataset to a target system or location. For the purpose of this project, the dataset will be loaded to the following path:\n",
    "\n",
    "> 00_Data/00_Datasets/\n",
    "\n",
    "The following scripts are used to load the dataset to the following target location, as a `CSV` file."
   ]
  },
  {
   "cell_type": "code",
   "execution_count": null,
   "id": "d5a8a735-140b-4680-a253-584d76880b6f",
   "metadata": {},
   "outputs": [],
   "source": [
    "# Target location of where data will be stored\n",
    "targetDataPath = \".././00_Data/00_Datasets/\""
   ]
  },
  {
   "cell_type": "code",
   "execution_count": null,
   "id": "d0db844f-2d63-40b0-95de-0a7845c858f5",
   "metadata": {},
   "outputs": [],
   "source": [
    "csvFileName = 'bloodGlucoseAnalytics.csv'"
   ]
  },
  {
   "cell_type": "code",
   "execution_count": null,
   "id": "00fe576a-b06f-4ad4-9bcb-8989783d5714",
   "metadata": {},
   "outputs": [],
   "source": [
    "bloodGlucoseManager_df.to_csv(\n",
    "    targetDataPath + csvFileName,\n",
    "    index = False\n",
    ")"
   ]
  },
  {
   "cell_type": "markdown",
   "id": "f898b6ff-088a-4a69-8fad-27030e750e75",
   "metadata": {},
   "source": [
    "# CONCLUSION"
   ]
  },
  {
   "cell_type": "markdown",
   "id": "3103a8e6-2ca1-4bec-aad6-45b0930c13b8",
   "metadata": {},
   "source": [
    "The ETL scripts in this notebook create a dataset suitable for analytics of blood glucose levels, from the `Blood Glucose Tracker.xlsx` spreadsheet."
   ]
  }
 ],
 "metadata": {
  "kernelspec": {
   "display_name": "Python 3 (ipykernel)",
   "language": "python",
   "name": "python3"
  },
  "language_info": {
   "codemirror_mode": {
    "name": "ipython",
    "version": 3
   },
   "file_extension": ".py",
   "mimetype": "text/x-python",
   "name": "python",
   "nbconvert_exporter": "python",
   "pygments_lexer": "ipython3",
   "version": "3.11.2"
  }
 },
 "nbformat": 4,
 "nbformat_minor": 5
}
