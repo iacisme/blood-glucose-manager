{
 "cells": [
  {
   "cell_type": "code",
   "execution_count": null,
   "id": "9683629f-3f97-45bb-97e8-3e2dd5a068cb",
   "metadata": {},
   "outputs": [],
   "source": [
    "import pandas as pd"
   ]
  },
  {
   "cell_type": "code",
   "execution_count": null,
   "id": "9e7c5d3b-7399-4f54-9311-07830c4f5260",
   "metadata": {},
   "outputs": [],
   "source": [
    "import plotly.express as px"
   ]
  },
  {
   "cell_type": "code",
   "execution_count": null,
   "id": "9a6f07e4-d518-4931-b1fa-27091baf8547",
   "metadata": {},
   "outputs": [],
   "source": [
    "dataPath = \".././00_Data/00_Datasets/\""
   ]
  },
  {
   "cell_type": "code",
   "execution_count": null,
   "id": "24669a3a-1079-4c5a-9766-a1a18aa74851",
   "metadata": {},
   "outputs": [],
   "source": [
    "fileName1 = \"blood_glucose_tracker.csv\""
   ]
  },
  {
   "cell_type": "code",
   "execution_count": null,
   "id": "d56da2b3-ae77-40db-82e4-f0d5f6d32524",
   "metadata": {},
   "outputs": [],
   "source": [
    "fileName2 = \"meal_tracker.csv\""
   ]
  },
  {
   "cell_type": "code",
   "execution_count": null,
   "id": "e89cd340-0039-4cff-a6c5-612d6f93d03f",
   "metadata": {},
   "outputs": [],
   "source": [
    "glucoseTracker_df = pd.read_csv(\n",
    "    dataPath + fileName1,\n",
    ")\n",
    "\n",
    "glucoseTracker_df"
   ]
  },
  {
   "cell_type": "code",
   "execution_count": null,
   "id": "545b7143-3a1e-4df4-843c-499e93d4e849",
   "metadata": {},
   "outputs": [],
   "source": [
    "mealTracker_df = pd.read_csv(\n",
    "    dataPath + fileName2,\n",
    ")\n",
    "\n",
    "mealTracker_df"
   ]
  },
  {
   "cell_type": "code",
   "execution_count": null,
   "id": "c19d7728-4d6d-4556-a967-061017b34e45",
   "metadata": {},
   "outputs": [],
   "source": [
    "glucoseTracker_df['Marker'].unique().tolist()"
   ]
  },
  {
   "cell_type": "code",
   "execution_count": null,
   "id": "06bf4d8e-c6cc-4de9-835d-471dabeb6e06",
   "metadata": {},
   "outputs": [],
   "source": [
    "mealTracker_df['Meal Type'].unique().tolist()"
   ]
  },
  {
   "cell_type": "code",
   "execution_count": null,
   "id": "995ccdfa-1959-43a8-a24f-042dc912179b",
   "metadata": {},
   "outputs": [],
   "source": [
    "mapValues = {\n",
    "    'Breakfast' : 'After Breakfast',\n",
    "    'Lunch' : 'After Lunch',\n",
    "    'Snack' : 'After Snack',\n",
    "    'Supper' : 'After Supper'\n",
    "}"
   ]
  },
  {
   "cell_type": "code",
   "execution_count": null,
   "id": "a310f352-ee75-48df-ab6b-5a38331c502e",
   "metadata": {},
   "outputs": [],
   "source": [
    "mealTracker_df['Marker'] = mealTracker_df['Meal Type'].map(mapValues)\n",
    "\n",
    "mealTracker_df"
   ]
  },
  {
   "cell_type": "code",
   "execution_count": null,
   "id": "02659e69-f190-45ea-bce4-db9046e3a689",
   "metadata": {},
   "outputs": [],
   "source": [
    "combined_df = pd.merge(\n",
    "    glucoseTracker_df,\n",
    "    mealTracker_df,\n",
    "    how = 'left',\n",
    "    on = ['Date', 'Marker'],\n",
    "    suffixes = ('Test', 'Meal'),\n",
    ")\n",
    "\n",
    "combined_df"
   ]
  },
  {
   "cell_type": "code",
   "execution_count": null,
   "id": "1d0f9294-632d-41d1-b9a4-580470d62fbc",
   "metadata": {},
   "outputs": [],
   "source": []
  },
  {
   "cell_type": "code",
   "execution_count": null,
   "id": "400e66b2-a9df-4eb2-9cbd-8492da4791f8",
   "metadata": {},
   "outputs": [],
   "source": []
  },
  {
   "cell_type": "code",
   "execution_count": null,
   "id": "d7a0a62e-fd92-4421-ad8b-a559b2a38c36",
   "metadata": {},
   "outputs": [],
   "source": []
  },
  {
   "cell_type": "markdown",
   "id": "4adb5513-b220-4921-90bd-8e5abe82a6f6",
   "metadata": {},
   "source": [
    "Insulin resistance and poor metabolic health is the primary driver of heart disease[^1].\n",
    "\n",
    "[^1]: This is a footnote"
   ]
  },
  {
   "cell_type": "code",
   "execution_count": null,
   "id": "0cf2e603-fe10-44c3-bd94-e00dd3296a33",
   "metadata": {},
   "outputs": [],
   "source": []
  }
 ],
 "metadata": {
  "kernelspec": {
   "display_name": "Python 3 (ipykernel)",
   "language": "python",
   "name": "python3"
  },
  "language_info": {
   "codemirror_mode": {
    "name": "ipython",
    "version": 3
   },
   "file_extension": ".py",
   "mimetype": "text/x-python",
   "name": "python",
   "nbconvert_exporter": "python",
   "pygments_lexer": "ipython3",
   "version": "3.11.2"
  }
 },
 "nbformat": 4,
 "nbformat_minor": 5
}
